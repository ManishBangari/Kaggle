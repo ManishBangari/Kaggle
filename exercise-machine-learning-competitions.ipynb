{
 "cells": [
  {
   "cell_type": "markdown",
   "id": "a7ccd24d",
   "metadata": {
    "_cell_guid": "3b04e337-b7c1-42d7-92fc-2cc11e284fe6",
    "_uuid": "5da4e594-b83c-404f-94b6-4e2361d02490",
    "papermill": {
     "duration": 0.005569,
     "end_time": "2023-04-02T06:30:40.577445",
     "exception": false,
     "start_time": "2023-04-02T06:30:40.571876",
     "status": "completed"
    },
    "tags": []
   },
   "source": [
    "**This notebook is an exercise in the [Introduction to Machine Learning](https://www.kaggle.com/learn/intro-to-machine-learning) course.  You can reference the tutorial at [this link](https://www.kaggle.com/alexisbcook/machine-learning-competitions).**\n",
    "\n",
    "---"
   ]
  },
  {
   "cell_type": "markdown",
   "id": "59429afe",
   "metadata": {
    "_cell_guid": "a71069fe-915f-4e43-b77b-cf0fd3a33855",
    "_uuid": "df0cf3ff-4337-4535-ae5b-d0db56236f9e",
    "papermill": {
     "duration": 0.004027,
     "end_time": "2023-04-02T06:30:40.586015",
     "exception": false,
     "start_time": "2023-04-02T06:30:40.581988",
     "status": "completed"
    },
    "tags": []
   },
   "source": [
    "# Introduction\n",
    "\n",
    "In this exercise, you will create and submit predictions for a Kaggle competition. You can then improve your model (e.g. by adding features) to apply what you've learned and move up the leaderboard.\n",
    "\n",
    "Begin by running the code cell below to set up code checking and the filepaths for the dataset."
   ]
  },
  {
   "cell_type": "code",
   "execution_count": 1,
   "id": "c473c8ca",
   "metadata": {
    "_cell_guid": "5a27898b-94c5-41af-80ba-194aac6225b3",
    "_uuid": "d3bebe5f-1c54-4cb9-b78c-4ecd9645c217",
    "collapsed": false,
    "execution": {
     "iopub.execute_input": "2023-04-02T06:30:40.596716Z",
     "iopub.status.busy": "2023-04-02T06:30:40.596236Z",
     "iopub.status.idle": "2023-04-02T06:30:40.648807Z",
     "shell.execute_reply": "2023-04-02T06:30:40.647421Z"
    },
    "jupyter": {
     "outputs_hidden": false
    },
    "papermill": {
     "duration": 0.061688,
     "end_time": "2023-04-02T06:30:40.652009",
     "exception": false,
     "start_time": "2023-04-02T06:30:40.590321",
     "status": "completed"
    },
    "tags": []
   },
   "outputs": [
    {
     "name": "stdout",
     "output_type": "stream",
     "text": [
      "Done..\n"
     ]
    }
   ],
   "source": [
    "# Set up code checking\n",
    "from learntools.core import binder\n",
    "binder.bind(globals())\n",
    "from learntools.machine_learning.ex7 import *\n",
    "\n",
    "# Set up filepaths\n",
    "import os\n",
    "if not os.path.exists(\"../input/train.csv\"):\n",
    "    os.symlink(\"../input/home-data-for-ml-course/train.csv\", \"../input/train.csv\")  \n",
    "    os.symlink(\"../input/home-data-for-ml-course/test.csv\", \"../input/test.csv\") \n",
    "\n",
    "print('Done..')"
   ]
  },
  {
   "cell_type": "markdown",
   "id": "7f455ac8",
   "metadata": {
    "_cell_guid": "4e16f49d-29cf-4fe4-bfaf-456f9b471903",
    "_uuid": "f2ca8fd3-867c-4739-a9bb-b921bf622499",
    "papermill": {
     "duration": 0.004031,
     "end_time": "2023-04-02T06:30:40.660540",
     "exception": false,
     "start_time": "2023-04-02T06:30:40.656509",
     "status": "completed"
    },
    "tags": []
   },
   "source": [
    "Here's some of the code you've written so far. Start by running it again."
   ]
  },
  {
   "cell_type": "code",
   "execution_count": 2,
   "id": "8ce69253",
   "metadata": {
    "_cell_guid": "da67fb98-8b5d-49bb-a2fc-f10b20fa0bca",
    "_uuid": "a1630454-6117-4a5d-af51-ad1fd086fe13",
    "collapsed": false,
    "execution": {
     "iopub.execute_input": "2023-04-02T06:30:40.671992Z",
     "iopub.status.busy": "2023-04-02T06:30:40.671120Z",
     "iopub.status.idle": "2023-04-02T06:30:45.383014Z",
     "shell.execute_reply": "2023-04-02T06:30:45.381902Z"
    },
    "jupyter": {
     "outputs_hidden": false
    },
    "papermill": {
     "duration": 4.720513,
     "end_time": "2023-04-02T06:30:45.385664",
     "exception": false,
     "start_time": "2023-04-02T06:30:40.665151",
     "status": "completed"
    },
    "tags": []
   },
   "outputs": [
    {
     "name": "stdout",
     "output_type": "stream",
     "text": [
      "Index(['Id', 'MSSubClass', 'MSZoning', 'LotFrontage', 'LotArea', 'Street',\n",
      "       'Alley', 'LotShape', 'LandContour', 'Utilities', 'LotConfig',\n",
      "       'LandSlope', 'Neighborhood', 'Condition1', 'Condition2', 'BldgType',\n",
      "       'HouseStyle', 'OverallQual', 'OverallCond', 'YearBuilt', 'YearRemodAdd',\n",
      "       'RoofStyle', 'RoofMatl', 'Exterior1st', 'Exterior2nd', 'MasVnrType',\n",
      "       'MasVnrArea', 'ExterQual', 'ExterCond', 'Foundation', 'BsmtQual',\n",
      "       'BsmtCond', 'BsmtExposure', 'BsmtFinType1', 'BsmtFinSF1',\n",
      "       'BsmtFinType2', 'BsmtFinSF2', 'BsmtUnfSF', 'TotalBsmtSF', 'Heating',\n",
      "       'HeatingQC', 'CentralAir', 'Electrical', '1stFlrSF', '2ndFlrSF',\n",
      "       'LowQualFinSF', 'GrLivArea', 'BsmtFullBath', 'BsmtHalfBath', 'FullBath',\n",
      "       'HalfBath', 'BedroomAbvGr', 'KitchenAbvGr', 'KitchenQual',\n",
      "       'TotRmsAbvGrd', 'Functional', 'Fireplaces', 'FireplaceQu', 'GarageType',\n",
      "       'GarageYrBlt', 'GarageFinish', 'GarageCars', 'GarageArea', 'GarageQual',\n",
      "       'GarageCond', 'PavedDrive', 'WoodDeckSF', 'OpenPorchSF',\n",
      "       'EnclosedPorch', '3SsnPorch', 'ScreenPorch', 'PoolArea', 'PoolQC',\n",
      "       'Fence', 'MiscFeature', 'MiscVal', 'MoSold', 'YrSold', 'SaleType',\n",
      "       'SaleCondition', 'SalePrice'],\n",
      "      dtype='object')\n",
      "Validation MAE for Random Forest Model: 21,857\n",
      "Max leaf nodes: 5  \t\t Mean Absolute Error:  31441\n",
      "Max leaf nodes: 50  \t\t Mean Absolute Error:  22929\n",
      "Max leaf nodes: 500  \t\t Mean Absolute Error:  22143\n",
      "Max leaf nodes: 5000  \t\t Mean Absolute Error:  22140\n",
      "Max leaf nodes: 10000  \t\t Mean Absolute Error:  22140\n",
      "Max leaf nodes: 50000  \t\t Mean Absolute Error:  22140\n",
      "Max leaf nodes: 6000  \t\t Mean Absolute Error:  22140\n"
     ]
    }
   ],
   "source": [
    "# Import helpful libraries\n",
    "import pandas as pd\n",
    "from sklearn.ensemble import RandomForestRegressor\n",
    "from sklearn.metrics import mean_absolute_error\n",
    "from sklearn.model_selection import train_test_split\n",
    "\n",
    "# Load the data, and separate the target\n",
    "iowa_file_path = '../input/train.csv'\n",
    "home_data = pd.read_csv(iowa_file_path)\n",
    "y = home_data.SalePrice\n",
    "\n",
    "print(home_data.columns)\n",
    "# Create X (After completing the exercise, you can return to modify this line!)\n",
    "features = ['LotArea', 'YearBuilt', '1stFlrSF', '2ndFlrSF', 'FullBath', 'BedroomAbvGr', 'TotRmsAbvGrd']\n",
    "\n",
    "# Select columns corresponding to features, and preview the data\n",
    "X = home_data[features]\n",
    "X.head()\n",
    "\n",
    "def get_mae(max_leaf_nodes, train_X, val_X, train_y, val_y):\n",
    "    model = RandomForestRegressor(max_leaf_nodes=max_leaf_nodes, random_state=0)\n",
    "    model.fit(train_X, train_y)\n",
    "    preds_val = model.predict(val_X)\n",
    "    mae = mean_absolute_error(val_y, preds_val)\n",
    "    return(mae)\n",
    "\n",
    "# Split into validation and training data\n",
    "train_X, val_X, train_y, val_y = train_test_split(X, y, random_state=1)\n",
    "\n",
    "# Define a random forest model\n",
    "rf_model = RandomForestRegressor(random_state=1)\n",
    "rf_model.fit(train_X, train_y)\n",
    "rf_val_predictions = rf_model.predict(val_X)\n",
    "rf_val_mae = mean_absolute_error(rf_val_predictions, val_y)\n",
    "\n",
    "print(\"Validation MAE for Random Forest Model: {:,.0f}\".format(rf_val_mae))\n",
    "\n",
    "# compare MAE with differing values of max_leaf_nodes\n",
    "for max_leaf_nodes in [5, 50, 500, 5000,10000,50000,6000]:\n",
    "    my_mae = get_mae(max_leaf_nodes, train_X, val_X, train_y, val_y)\n",
    "    print(\"Max leaf nodes: %d  \\t\\t Mean Absolute Error:  %d\" %(max_leaf_nodes, my_mae))"
   ]
  },
  {
   "cell_type": "markdown",
   "id": "3aa6079b",
   "metadata": {
    "_cell_guid": "2ccefe05-8194-4664-ab1f-0796e8f04565",
    "_uuid": "e666a003-7592-479a-b1ac-7db9fcb2617e",
    "papermill": {
     "duration": 0.004707,
     "end_time": "2023-04-02T06:30:45.395532",
     "exception": false,
     "start_time": "2023-04-02T06:30:45.390825",
     "status": "completed"
    },
    "tags": []
   },
   "source": [
    "# Train a model for the competition\n",
    "\n",
    "The code cell above trains a Random Forest model on **`train_X`** and **`train_y`**.  \n",
    "\n",
    "Use the code cell below to build a Random Forest model and train it on all of **`X`** and **`y`**."
   ]
  },
  {
   "cell_type": "code",
   "execution_count": 3,
   "id": "c046f3ef",
   "metadata": {
    "_cell_guid": "8a346f2a-0470-4954-a4a6-54021668925d",
    "_uuid": "9bcb78a8-9d9a-4400-b42c-d25809a93967",
    "collapsed": false,
    "execution": {
     "iopub.execute_input": "2023-04-02T06:30:45.408059Z",
     "iopub.status.busy": "2023-04-02T06:30:45.407093Z",
     "iopub.status.idle": "2023-04-02T06:30:45.963251Z",
     "shell.execute_reply": "2023-04-02T06:30:45.961937Z"
    },
    "jupyter": {
     "outputs_hidden": false
    },
    "papermill": {
     "duration": 0.565624,
     "end_time": "2023-04-02T06:30:45.966268",
     "exception": false,
     "start_time": "2023-04-02T06:30:45.400644",
     "status": "completed"
    },
    "tags": []
   },
   "outputs": [
    {
     "data": {
      "text/plain": [
       "RandomForestRegressor(random_state=1)"
      ]
     },
     "execution_count": 3,
     "metadata": {},
     "output_type": "execute_result"
    }
   ],
   "source": [
    "rf_model_on_full_data = RandomForestRegressor(random_state=1)\n",
    "\n",
    "# fit rf_model_on_full_data on all data from the training data\n",
    "rf_model_on_full_data.fit(X,y)"
   ]
  },
  {
   "cell_type": "markdown",
   "id": "a9b3763e",
   "metadata": {
    "_cell_guid": "c856861f-4807-4d31-b20e-58da6ae2e125",
    "_uuid": "1a306215-719b-4f41-b574-c75fbe96c0dd",
    "papermill": {
     "duration": 0.004697,
     "end_time": "2023-04-02T06:30:45.976075",
     "exception": false,
     "start_time": "2023-04-02T06:30:45.971378",
     "status": "completed"
    },
    "tags": []
   },
   "source": [
    "Now, read the file of \"test\" data, and apply your model to make predictions."
   ]
  },
  {
   "cell_type": "code",
   "execution_count": 4,
   "id": "d1f07337",
   "metadata": {
    "_cell_guid": "837d42c3-ee01-4502-a758-05065ee05c83",
    "_uuid": "98d4a5d5-93bc-4011-acc5-d959086633b7",
    "collapsed": false,
    "execution": {
     "iopub.execute_input": "2023-04-02T06:30:45.988655Z",
     "iopub.status.busy": "2023-04-02T06:30:45.987951Z",
     "iopub.status.idle": "2023-04-02T06:30:46.076340Z",
     "shell.execute_reply": "2023-04-02T06:30:46.075069Z"
    },
    "jupyter": {
     "outputs_hidden": false
    },
    "papermill": {
     "duration": 0.098329,
     "end_time": "2023-04-02T06:30:46.079666",
     "exception": false,
     "start_time": "2023-04-02T06:30:45.981337",
     "status": "completed"
    },
    "tags": []
   },
   "outputs": [],
   "source": [
    "# path to file you will use for predictions\n",
    "test_data_path = '../input/test.csv'\n",
    "# read test data file using pandas\n",
    "test_data = pd.read_csv(test_data_path)\n",
    "\n",
    "# create test_X which comes from test_data but includes only the columns you used for prediction.\n",
    "# The list of columns is stored in a variable called features\n",
    "test_X = test_data[features]\n",
    "\n",
    "# make predictions which we will submit. \n",
    "test_preds = rf_model_on_full_data.predict(test_X)"
   ]
  },
  {
   "cell_type": "markdown",
   "id": "4bcb90f4",
   "metadata": {
    "_cell_guid": "bacc35c1-8237-4872-8152-d59c4b52b763",
    "_uuid": "8bb981ec-fb85-45fe-925b-1c35afab8b6a",
    "papermill": {
     "duration": 0.004828,
     "end_time": "2023-04-02T06:30:46.089801",
     "exception": false,
     "start_time": "2023-04-02T06:30:46.084973",
     "status": "completed"
    },
    "tags": []
   },
   "source": [
    "Before submitting, run a check to make sure your `test_preds` have the right format."
   ]
  },
  {
   "cell_type": "code",
   "execution_count": 5,
   "id": "773ef11e",
   "metadata": {
    "_cell_guid": "35b7aedb-575a-417a-b503-553954f35d94",
    "_uuid": "7c6a9906-1755-49f3-ae51-fb8f01f7599d",
    "collapsed": false,
    "execution": {
     "iopub.execute_input": "2023-04-02T06:30:46.102391Z",
     "iopub.status.busy": "2023-04-02T06:30:46.101544Z",
     "iopub.status.idle": "2023-04-02T06:30:46.115617Z",
     "shell.execute_reply": "2023-04-02T06:30:46.114648Z"
    },
    "jupyter": {
     "outputs_hidden": false
    },
    "papermill": {
     "duration": 0.023026,
     "end_time": "2023-04-02T06:30:46.117822",
     "exception": false,
     "start_time": "2023-04-02T06:30:46.094796",
     "status": "completed"
    },
    "tags": []
   },
   "outputs": [
    {
     "data": {
      "application/javascript": [
       "parent.postMessage({\"jupyterEvent\": \"custom.exercise_interaction\", \"data\": {\"outcomeType\": 1, \"valueTowardsCompletion\": 1.0, \"interactionType\": 1, \"questionType\": 2, \"questionId\": \"1_CheckSubmittablePreds\", \"learnToolsVersion\": \"0.3.4\", \"failureMessage\": \"\", \"exceptionClass\": \"\", \"trace\": \"\"}}, \"*\")"
      ],
      "text/plain": [
       "<IPython.core.display.Javascript object>"
      ]
     },
     "metadata": {},
     "output_type": "display_data"
    },
    {
     "data": {
      "text/markdown": [
       "<span style=\"color:#33cc33\">Correct</span>"
      ],
      "text/plain": [
       "Correct"
      ]
     },
     "metadata": {},
     "output_type": "display_data"
    },
    {
     "data": {
      "application/javascript": [
       "parent.postMessage({\"jupyterEvent\": \"custom.exercise_interaction\", \"data\": {\"interactionType\": 3, \"questionType\": 2, \"questionId\": \"1_CheckSubmittablePreds\", \"learnToolsVersion\": \"0.3.4\", \"valueTowardsCompletion\": 0.0, \"failureMessage\": \"\", \"exceptionClass\": \"\", \"trace\": \"\", \"outcomeType\": 4}}, \"*\")"
      ],
      "text/plain": [
       "<IPython.core.display.Javascript object>"
      ]
     },
     "metadata": {},
     "output_type": "display_data"
    },
    {
     "data": {
      "text/markdown": [
       "<span style=\"color:#33cc99\">Solution:</span> \n",
       "```python\n",
       "\n",
       "# In previous code cell\n",
       "rf_model_on_full_data = RandomForestRegressor()\n",
       "rf_model_on_full_data.fit(X, y)\n",
       "\n",
       "# Then in last code cell\n",
       "test_data_path = '../input/test.csv'\n",
       "test_data = pd.read_csv(test_data_path)\n",
       "test_X = test_data[features]\n",
       "test_preds = rf_model_on_full_data.predict(test_X)\n",
       "\n",
       "\n",
       "output = pd.DataFrame({'Id': test_data.Id,\n",
       "                       'SalePrice': test_preds})\n",
       "output.to_csv('submission.csv', index=False)\n",
       "\n",
       "```"
      ],
      "text/plain": [
       "Solution: \n",
       "```python\n",
       "\n",
       "# In previous code cell\n",
       "rf_model_on_full_data = RandomForestRegressor()\n",
       "rf_model_on_full_data.fit(X, y)\n",
       "\n",
       "# Then in last code cell\n",
       "test_data_path = '../input/test.csv'\n",
       "test_data = pd.read_csv(test_data_path)\n",
       "test_X = test_data[features]\n",
       "test_preds = rf_model_on_full_data.predict(test_X)\n",
       "\n",
       "\n",
       "output = pd.DataFrame({'Id': test_data.Id,\n",
       "                       'SalePrice': test_preds})\n",
       "output.to_csv('submission.csv', index=False)\n",
       "\n",
       "```"
      ]
     },
     "metadata": {},
     "output_type": "display_data"
    }
   ],
   "source": [
    "# Check your answer (To get credit for completing the exercise, you must get a \"Correct\" result!)\n",
    "step_1.check()\n",
    "step_1.solution()"
   ]
  },
  {
   "cell_type": "markdown",
   "id": "2ef29ca2",
   "metadata": {
    "_cell_guid": "6d2adcf9-a139-4f79-bafe-26a8abb179d0",
    "_uuid": "e8237ccb-765d-4600-a976-d452001a9668",
    "papermill": {
     "duration": 0.00529,
     "end_time": "2023-04-02T06:30:46.128593",
     "exception": false,
     "start_time": "2023-04-02T06:30:46.123303",
     "status": "completed"
    },
    "tags": []
   },
   "source": [
    "# Generate a submission\n",
    "\n",
    "Run the code cell below to generate a CSV file with your predictions that you can use to submit to the competition."
   ]
  },
  {
   "cell_type": "code",
   "execution_count": 6,
   "id": "9711ac1b",
   "metadata": {
    "_cell_guid": "c8d41933-537f-4741-a553-a15337ad725f",
    "_uuid": "998fa76b-8373-4ebc-be12-3a8c6e285af6",
    "collapsed": false,
    "execution": {
     "iopub.execute_input": "2023-04-02T06:30:46.142130Z",
     "iopub.status.busy": "2023-04-02T06:30:46.141394Z",
     "iopub.status.idle": "2023-04-02T06:30:46.156025Z",
     "shell.execute_reply": "2023-04-02T06:30:46.154922Z"
    },
    "jupyter": {
     "outputs_hidden": false
    },
    "papermill": {
     "duration": 0.024893,
     "end_time": "2023-04-02T06:30:46.158914",
     "exception": false,
     "start_time": "2023-04-02T06:30:46.134021",
     "status": "completed"
    },
    "tags": []
   },
   "outputs": [],
   "source": [
    "# Run the code to save predictions in the format used for competition scoring\n",
    "\n",
    "output = pd.DataFrame({'Id': test_data.Id,\n",
    "                       'SalePrice': test_preds})\n",
    "output.to_csv('Output.csv', index=False)"
   ]
  },
  {
   "cell_type": "markdown",
   "id": "222b963e",
   "metadata": {
    "_cell_guid": "f4a31137-6880-417a-86a2-6882454ea593",
    "_uuid": "18e39a22-847f-46e1-9beb-c444f9e28e26",
    "papermill": {
     "duration": 0.00526,
     "end_time": "2023-04-02T06:30:46.170183",
     "exception": false,
     "start_time": "2023-04-02T06:30:46.164923",
     "status": "completed"
    },
    "tags": []
   },
   "source": [
    "# Submit to the competition\n",
    "\n",
    "To test your results, you'll need to join the competition (if you haven't already).  So open a new window by clicking on **[this link](https://www.kaggle.com/c/home-data-for-ml-course)**.  Then click on the **Join Competition** button.\n",
    "\n",
    "![join competition image](https://i.imgur.com/axBzctl.png)\n",
    "\n",
    "Next, follow the instructions below:\n",
    "1. Begin by clicking on the **Save Version** button in the top right corner of the window.  This will generate a pop-up window.  \n",
    "2. Ensure that the **Save and Run All** option is selected, and then click on the **Save** button.\n",
    "3. This generates a window in the bottom left corner of the notebook.  After it has finished running, click on the number to the right of the **Save Version** button.  This pulls up a list of versions on the right of the screen.  Click on the ellipsis **(...)** to the right of the most recent version, and select **Open in Viewer**.  This brings you into view mode of the same page. You will need to scroll down to get back to these instructions.\n",
    "4. Click on the **Output** tab on the right of the screen.  Then, click on the file you would like to submit, and click on the **Submit** button to submit your results to the leaderboard.\n",
    "\n",
    "You have now successfully submitted to the competition!\n",
    "\n",
    "If you want to keep working to improve your performance, select the **Edit** button in the top right of the screen. Then you can change your code and repeat the process. There's a lot of room to improve, and you will climb up the leaderboard as you work.\n",
    "\n",
    "\n",
    "# Continue Your Progress\n",
    "There are many ways to improve your model, and **experimenting is a great way to learn at this point.**\n",
    "\n",
    "The best way to improve your model is to add features.  To add more features to the data, revisit the first code cell, and change this line of code to include more column names:\n",
    "```python\n",
    "features = ['LotArea', 'YearBuilt', '1stFlrSF', '2ndFlrSF', 'FullBath', 'BedroomAbvGr', 'TotRmsAbvGrd']\n",
    "```\n",
    "\n",
    "Some features will cause errors because of issues like missing values or non-numeric data types.  Here is a complete list of potential columns that you might like to use, and that won't throw errors:\n",
    "- 'MSSubClass'\n",
    "- 'LotArea'\n",
    "- 'OverallQual' \n",
    "- 'OverallCond' \n",
    "- 'YearBuilt'\n",
    "- 'YearRemodAdd' \n",
    "- '1stFlrSF'\n",
    "- '2ndFlrSF' \n",
    "- 'LowQualFinSF' \n",
    "- 'GrLivArea'\n",
    "- 'FullBath'\n",
    "- 'HalfBath'\n",
    "- 'BedroomAbvGr' \n",
    "- 'KitchenAbvGr' \n",
    "- 'TotRmsAbvGrd' \n",
    "- 'Fireplaces' \n",
    "- 'WoodDeckSF' \n",
    "- 'OpenPorchSF'\n",
    "- 'EnclosedPorch' \n",
    "- '3SsnPorch' \n",
    "- 'ScreenPorch' \n",
    "- 'PoolArea' \n",
    "- 'MiscVal' \n",
    "- 'MoSold' \n",
    "- 'YrSold'\n",
    "\n",
    "Look at the list of columns and think about what might affect home prices.  To learn more about each of these features, take a look at the data description on the **[competition page](https://www.kaggle.com/c/home-data-for-ml-course/data)**.\n",
    "\n",
    "After updating the code cell above that defines the features, re-run all of the code cells to evaluate the model and generate a new submission file.  \n",
    "\n",
    "\n",
    "# What's next?\n",
    "\n",
    "As mentioned above, some of the features will throw an error if you try to use them to train your model.  The **[Intermediate Machine Learning](https://www.kaggle.com/learn/intermediate-machine-learning)** course will teach you how to handle these types of features. You will also learn to use **xgboost**, a technique giving even better accuracy than Random Forest.\n",
    "\n",
    "The **[Pandas](https://kaggle.com/Learn/Pandas)** course will give you the data manipulation skills to quickly go from conceptual idea to implementation in your data science projects. \n",
    "\n",
    "You are also ready for the **[Deep Learning](https://kaggle.com/Learn/intro-to-Deep-Learning)** course, where you will build models with better-than-human level performance at computer vision tasks."
   ]
  },
  {
   "cell_type": "markdown",
   "id": "a1d4d073",
   "metadata": {
    "_cell_guid": "32d6a580-2601-4947-86b7-a6e8b3407538",
    "_uuid": "b3125904-f24d-427f-91bb-80744caf40d6",
    "papermill": {
     "duration": 0.005263,
     "end_time": "2023-04-02T06:30:46.181005",
     "exception": false,
     "start_time": "2023-04-02T06:30:46.175742",
     "status": "completed"
    },
    "tags": []
   },
   "source": [
    "---\n",
    "\n",
    "\n",
    "\n",
    "\n",
    "*Have questions or comments? Visit the [course discussion forum](https://www.kaggle.com/learn/intro-to-machine-learning/discussion) to chat with other learners.*"
   ]
  }
 ],
 "metadata": {
  "kernelspec": {
   "display_name": "Python 3",
   "language": "python",
   "name": "python3"
  },
  "language_info": {
   "codemirror_mode": {
    "name": "ipython",
    "version": 3
   },
   "file_extension": ".py",
   "mimetype": "text/x-python",
   "name": "python",
   "nbconvert_exporter": "python",
   "pygments_lexer": "ipython3",
   "version": "3.7.12"
  },
  "papermill": {
   "default_parameters": {},
   "duration": 17.109691,
   "end_time": "2023-04-02T06:30:46.911368",
   "environment_variables": {},
   "exception": null,
   "input_path": "__notebook__.ipynb",
   "output_path": "__notebook__.ipynb",
   "parameters": {},
   "start_time": "2023-04-02T06:30:29.801677",
   "version": "2.4.0"
  }
 },
 "nbformat": 4,
 "nbformat_minor": 5
}
